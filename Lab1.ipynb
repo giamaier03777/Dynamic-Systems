{
 "cells": [
  {
   "cell_type": "code",
   "execution_count": 2,
   "id": "a4e50266",
   "metadata": {},
   "outputs": [
    {
     "data": {
      "text/plain": [
       "3"
      ]
     },
     "execution_count": 2,
     "metadata": {},
     "output_type": "execute_result"
    }
   ],
   "source": [
    "1+2"
   ]
  },
  {
   "cell_type": "code",
   "execution_count": 3,
   "id": "02b0ec8a",
   "metadata": {},
   "outputs": [
    {
     "data": {
      "text/plain": [
       "4"
      ]
     },
     "execution_count": 3,
     "metadata": {},
     "output_type": "execute_result"
    }
   ],
   "source": [
    "1+3"
   ]
  },
  {
   "cell_type": "code",
   "execution_count": 4,
   "id": "ef92b01d",
   "metadata": {},
   "outputs": [
    {
     "data": {
      "text/plain": [
       "11"
      ]
     },
     "execution_count": 4,
     "metadata": {},
     "output_type": "execute_result"
    }
   ],
   "source": [
    "12+4-5"
   ]
  },
  {
   "cell_type": "code",
   "execution_count": 5,
   "id": "5708f96a",
   "metadata": {},
   "outputs": [
    {
     "data": {
      "text/plain": [
       "1024"
      ]
     },
     "execution_count": 5,
     "metadata": {},
     "output_type": "execute_result"
    }
   ],
   "source": [
    "2^10"
   ]
  },
  {
   "cell_type": "code",
   "execution_count": 6,
   "id": "9c16afde",
   "metadata": {},
   "outputs": [
    {
     "data": {
      "text/plain": [
       "1"
      ]
     },
     "execution_count": 6,
     "metadata": {},
     "output_type": "execute_result"
    }
   ],
   "source": [
    "sin(pi/2)"
   ]
  },
  {
   "cell_type": "code",
   "execution_count": 7,
   "id": "1fa87086",
   "metadata": {},
   "outputs": [
    {
     "data": {
      "text/plain": [
       "0.0998334166468282"
      ]
     },
     "execution_count": 7,
     "metadata": {},
     "output_type": "execute_result"
    }
   ],
   "source": [
    "sin(0.1)"
   ]
  },
  {
   "cell_type": "code",
   "execution_count": 8,
   "id": "34f6fc24",
   "metadata": {},
   "outputs": [
    {
     "data": {
      "text/plain": [
       "18"
      ]
     },
     "execution_count": 8,
     "metadata": {},
     "output_type": "execute_result"
    }
   ],
   "source": [
    "14+2*(5-3)"
   ]
  },
  {
   "cell_type": "code",
   "execution_count": 9,
   "id": "3729f537",
   "metadata": {},
   "outputs": [
    {
     "ename": "SyntaxError",
     "evalue": "cannot assign to expression here. Maybe you meant '==' instead of '='? (3223224341.py, line 1)",
     "output_type": "error",
     "traceback": [
      "\u001b[0;36m  Cell \u001b[0;32mIn [9], line 1\u001b[0;36m\u001b[0m\n\u001b[0;31m    x**Integer(4) - Integer(3)/Integer(2)*x**Integer(3) - x + Integer(3)/Integer(2) = Integer(0)\u001b[0m\n\u001b[0m    ^\u001b[0m\n\u001b[0;31mSyntaxError\u001b[0m\u001b[0;31m:\u001b[0m cannot assign to expression here. Maybe you meant '==' instead of '='?\n"
     ]
    }
   ],
   "source": [
    "x^4 - 3/2*x^3 - x + 3/2 = 0"
   ]
  },
  {
   "cell_type": "code",
   "execution_count": 10,
   "id": "a7d12d24",
   "metadata": {},
   "outputs": [
    {
     "data": {
      "text/plain": [
       "x^4 - 3/2*x^3 - x + 3/2 == 0"
      ]
     },
     "execution_count": 10,
     "metadata": {},
     "output_type": "execute_result"
    }
   ],
   "source": [
    "x^4 - 3/2*x^3 - x + 3/2 == 0"
   ]
  },
  {
   "cell_type": "code",
   "execution_count": 11,
   "id": "d8706f58",
   "metadata": {},
   "outputs": [
    {
     "data": {
      "text/plain": [
       "<function solve at 0x10ba3c400>"
      ]
     },
     "execution_count": 11,
     "metadata": {},
     "output_type": "execute_result"
    }
   ],
   "source": [
    "solve"
   ]
  },
  {
   "cell_type": "code",
   "execution_count": 12,
   "id": "b337c079",
   "metadata": {},
   "outputs": [
    {
     "ename": "SyntaxError",
     "evalue": "invalid syntax (2351912853.py, line 1)",
     "output_type": "error",
     "traceback": [
      "\u001b[0;36m  Cell \u001b[0;32mIn [12], line 1\u001b[0;36m\u001b[0m\n\u001b[0;31m    solve x**Integer(4) - Integer(3)/Integer(2)*x**Integer(3) - x + Integer(3)/Integer(2) = Integer(0)\u001b[0m\n\u001b[0m          ^\u001b[0m\n\u001b[0;31mSyntaxError\u001b[0m\u001b[0;31m:\u001b[0m invalid syntax\n"
     ]
    }
   ],
   "source": [
    "solve x^4 - 3/2*x^3 - x + 3/2 = 0"
   ]
  },
  {
   "cell_type": "code",
   "execution_count": 13,
   "id": "0a07832b",
   "metadata": {},
   "outputs": [
    {
     "ename": "IndexError",
     "evalue": "tuple index out of range",
     "output_type": "error",
     "traceback": [
      "\u001b[0;31m---------------------------------------------------------------------------\u001b[0m",
      "\u001b[0;31mIndexError\u001b[0m                                Traceback (most recent call last)",
      "Cell \u001b[0;32mIn [13], line 2\u001b[0m\n\u001b[1;32m      1\u001b[0m a \u001b[38;5;241m=\u001b[39m x\u001b[38;5;241m*\u001b[39m\u001b[38;5;241m*\u001b[39mInteger(\u001b[38;5;241m4\u001b[39m) \u001b[38;5;241m-\u001b[39m Integer(\u001b[38;5;241m3\u001b[39m)\u001b[38;5;241m/\u001b[39mInteger(\u001b[38;5;241m2\u001b[39m)\u001b[38;5;241m*\u001b[39mx\u001b[38;5;241m*\u001b[39m\u001b[38;5;241m*\u001b[39mInteger(\u001b[38;5;241m3\u001b[39m) \u001b[38;5;241m-\u001b[39m x \u001b[38;5;241m+\u001b[39m Integer(\u001b[38;5;241m3\u001b[39m)\u001b[38;5;241m/\u001b[39mInteger(\u001b[38;5;241m2\u001b[39m) \u001b[38;5;241m==\u001b[39m Integer(\u001b[38;5;241m0\u001b[39m)\n\u001b[0;32m----> 2\u001b[0m \u001b[43msolve\u001b[49m\u001b[43m(\u001b[49m\u001b[43ma\u001b[49m\u001b[43m)\u001b[49m\n",
      "File \u001b[0;32m/private/var/tmp/sage-10.2-current/local/var/lib/sage/venv-python3.11.1/lib/python3.11/site-packages/sage/symbolic/relation.py:1042\u001b[0m, in \u001b[0;36msolve\u001b[0;34m(f, *args, **kwds)\u001b[0m\n\u001b[1;32m   1040\u001b[0m     x \u001b[38;5;241m=\u001b[39m args\n\u001b[1;32m   1041\u001b[0m \u001b[38;5;28;01melse\u001b[39;00m:\n\u001b[0;32m-> 1042\u001b[0m     x \u001b[38;5;241m=\u001b[39m \u001b[43margs\u001b[49m\u001b[43m[\u001b[49m\u001b[38;5;241;43m0\u001b[39;49m\u001b[43m]\u001b[49m\n\u001b[1;32m   1043\u001b[0m \u001b[38;5;28;01mif\u001b[39;00m \u001b[38;5;28misinstance\u001b[39m(x, (\u001b[38;5;28mlist\u001b[39m, \u001b[38;5;28mtuple\u001b[39m)):\n\u001b[1;32m   1044\u001b[0m     \u001b[38;5;28;01mfor\u001b[39;00m i \u001b[38;5;129;01min\u001b[39;00m x:\n",
      "\u001b[0;31mIndexError\u001b[0m: tuple index out of range"
     ]
    }
   ],
   "source": [
    "a = x^4 - 3/2*x^3 - x + 3/2 == 0\n",
    "solve(a)"
   ]
  },
  {
   "cell_type": "code",
   "execution_count": 14,
   "id": "05f47808",
   "metadata": {},
   "outputs": [
    {
     "ename": "TypeError",
     "evalue": "0 is not a valid variable.",
     "output_type": "error",
     "traceback": [
      "\u001b[0;31m---------------------------------------------------------------------------\u001b[0m",
      "\u001b[0;31mTypeError\u001b[0m                                 Traceback (most recent call last)",
      "Cell \u001b[0;32mIn [14], line 2\u001b[0m\n\u001b[1;32m      1\u001b[0m a \u001b[38;5;241m=\u001b[39m x\u001b[38;5;241m*\u001b[39m\u001b[38;5;241m*\u001b[39mInteger(\u001b[38;5;241m4\u001b[39m) \u001b[38;5;241m-\u001b[39m Integer(\u001b[38;5;241m3\u001b[39m)\u001b[38;5;241m/\u001b[39mInteger(\u001b[38;5;241m2\u001b[39m)\u001b[38;5;241m*\u001b[39mx\u001b[38;5;241m*\u001b[39m\u001b[38;5;241m*\u001b[39mInteger(\u001b[38;5;241m3\u001b[39m) \u001b[38;5;241m-\u001b[39m x \u001b[38;5;241m+\u001b[39m Integer(\u001b[38;5;241m3\u001b[39m)\u001b[38;5;241m/\u001b[39mInteger(\u001b[38;5;241m2\u001b[39m) \u001b[38;5;241m==\u001b[39m Integer(\u001b[38;5;241m0\u001b[39m)\n\u001b[0;32m----> 2\u001b[0m \u001b[43msolve\u001b[49m\u001b[43m(\u001b[49m\u001b[43ma\u001b[49m\u001b[43m,\u001b[49m\u001b[43mInteger\u001b[49m\u001b[43m(\u001b[49m\u001b[38;5;241;43m0\u001b[39;49m\u001b[43m)\u001b[49m\u001b[43m)\u001b[49m\n",
      "File \u001b[0;32m/private/var/tmp/sage-10.2-current/local/var/lib/sage/venv-python3.11.1/lib/python3.11/site-packages/sage/symbolic/relation.py:1056\u001b[0m, in \u001b[0;36msolve\u001b[0;34m(f, *args, **kwds)\u001b[0m\n\u001b[1;32m   1054\u001b[0m     x \u001b[38;5;241m=\u001b[39m \u001b[38;5;28mvars\u001b[39m[\u001b[38;5;241m0\u001b[39m]\n\u001b[1;32m   1055\u001b[0m \u001b[38;5;28;01melif\u001b[39;00m \u001b[38;5;129;01mnot\u001b[39;00m \u001b[38;5;28misinstance\u001b[39m(x, Expression):\n\u001b[0;32m-> 1056\u001b[0m     \u001b[38;5;28;01mraise\u001b[39;00m \u001b[38;5;167;01mTypeError\u001b[39;00m(\u001b[38;5;124m\"\u001b[39m\u001b[38;5;132;01m%s\u001b[39;00m\u001b[38;5;124m is not a valid variable.\u001b[39m\u001b[38;5;124m\"\u001b[39m \u001b[38;5;241m%\u001b[39m \u001b[38;5;28mrepr\u001b[39m(x))\n\u001b[1;32m   1058\u001b[0m \u001b[38;5;28;01mif\u001b[39;00m \u001b[38;5;28misinstance\u001b[39m(f, (\u001b[38;5;28mlist\u001b[39m, \u001b[38;5;28mtuple\u001b[39m)) \u001b[38;5;129;01mand\u001b[39;00m \u001b[38;5;28mlen\u001b[39m(f) \u001b[38;5;241m==\u001b[39m \u001b[38;5;241m1\u001b[39m:\n\u001b[1;32m   1059\u001b[0m     \u001b[38;5;66;03m# f is a list with a single element\u001b[39;00m\n\u001b[1;32m   1060\u001b[0m     \u001b[38;5;28;01mif\u001b[39;00m \u001b[38;5;28misinstance\u001b[39m(f[\u001b[38;5;241m0\u001b[39m], Expression):\n",
      "\u001b[0;31mTypeError\u001b[0m: 0 is not a valid variable."
     ]
    }
   ],
   "source": [
    "a = x^4 - 3/2*x^3 - x + 3/2 == 0\n",
    "solve(a,0)"
   ]
  },
  {
   "cell_type": "code",
   "execution_count": 15,
   "id": "d40d90c3",
   "metadata": {},
   "outputs": [
    {
     "data": {
      "text/plain": [
       "[x == 1, x == (3/2), x == -1/2*I*sqrt(3) - 1/2, x == 1/2*I*sqrt(3) - 1/2]"
      ]
     },
     "execution_count": 15,
     "metadata": {},
     "output_type": "execute_result"
    }
   ],
   "source": [
    "x = var('x')\n",
    "eq1 = x^4 - 3/2*x^3 - x + 3/2 == 0\n",
    "solve(eq1,x)"
   ]
  },
  {
   "cell_type": "code",
   "execution_count": 16,
   "id": "d398e2be",
   "metadata": {},
   "outputs": [
    {
     "data": {
      "text/plain": [
       "[x == -sqrt(10) - 1, x == sqrt(10) - 1]"
      ]
     },
     "execution_count": 16,
     "metadata": {},
     "output_type": "execute_result"
    }
   ],
   "source": [
    "x = var('x')\n",
    "eq1 = sqrt(x^2 + 2*x) ==3\n",
    "solve(eq1,x)"
   ]
  },
  {
   "cell_type": "code",
   "execution_count": 17,
   "id": "d181218b",
   "metadata": {},
   "outputs": [
    {
     "data": {
      "text/plain": [
       "[[x == 2, y == -1]]"
      ]
     },
     "execution_count": 17,
     "metadata": {},
     "output_type": "execute_result"
    }
   ],
   "source": [
    "x,y = var('x, y')\n",
    "eq1 = [2*x + y == 3, x + 3*y == -1]\n",
    "solve(eq1, x, y)"
   ]
  },
  {
   "cell_type": "code",
   "execution_count": 18,
   "id": "cc57f537",
   "metadata": {},
   "outputs": [
    {
     "data": {
      "text/plain": [
       "[[x == 7, y == 5], [x == 5, y == 7]]"
      ]
     },
     "execution_count": 18,
     "metadata": {},
     "output_type": "execute_result"
    }
   ],
   "source": [
    "x,y = var('x, y')\n",
    "eq1 = [2*x + x*y + 2*y == 59, 3*x - 2*x*y + 3*y == -34]\n",
    "solve(eq1, x, y)"
   ]
  },
  {
   "cell_type": "code",
   "execution_count": 19,
   "id": "66a3915b",
   "metadata": {},
   "outputs": [
    {
     "data": {
      "text/plain": [
       "1"
      ]
     },
     "execution_count": 19,
     "metadata": {},
     "output_type": "execute_result"
    }
   ],
   "source": [
    "limit(sin(x)/x, x= 0)"
   ]
  },
  {
   "cell_type": "code",
   "execution_count": 22,
   "id": "4e9b6e9f",
   "metadata": {},
   "outputs": [
    {
     "data": {
      "text/plain": [
       "1/2"
      ]
     },
     "execution_count": 22,
     "metadata": {},
     "output_type": "execute_result"
    }
   ],
   "source": [
    "limit((x^3 + 3*x^2 -5)/(2*x^3 - 7*x), x = infinity)"
   ]
  },
  {
   "cell_type": "code",
   "execution_count": null,
   "id": "0be7088e",
   "metadata": {},
   "outputs": [],
   "source": []
  },
  {
   "cell_type": "code",
   "execution_count": 21,
   "id": "ff8d6c66",
   "metadata": {},
   "outputs": [
    {
     "data": {
      "text/plain": [
       "0"
      ]
     },
     "execution_count": 21,
     "metadata": {},
     "output_type": "execute_result"
    }
   ],
   "source": [
    "limit((cos(x) + 1)/ (x - pi), x = pi)"
   ]
  },
  {
   "cell_type": "code",
   "execution_count": 26,
   "id": "0ec897d8",
   "metadata": {},
   "outputs": [
    {
     "data": {
      "text/plain": [
       "9*x^2 + 4*x"
      ]
     },
     "execution_count": 26,
     "metadata": {},
     "output_type": "execute_result"
    }
   ],
   "source": [
    "y(x) = 3*x^3 + 2*x^2 -5\n",
    "diff(y(x), x)"
   ]
  },
  {
   "cell_type": "code",
   "execution_count": 25,
   "id": "169a5475",
   "metadata": {},
   "outputs": [
    {
     "data": {
      "text/plain": [
       "3*x^3 + 2*x^2 - 5"
      ]
     },
     "execution_count": 25,
     "metadata": {},
     "output_type": "execute_result"
    }
   ],
   "source": [
    "y(x)"
   ]
  },
  {
   "cell_type": "code",
   "execution_count": 28,
   "id": "a84f0b34",
   "metadata": {},
   "outputs": [
    {
     "data": {
      "text/plain": [
       "2*x^3/sqrt(x^4 + 1)"
      ]
     },
     "execution_count": 28,
     "metadata": {},
     "output_type": "execute_result"
    }
   ],
   "source": [
    "y(x) = sqrt(1 + x^4)\n",
    "diff(y(x), x)"
   ]
  },
  {
   "cell_type": "code",
   "execution_count": 44,
   "id": "6b7e3978",
   "metadata": {},
   "outputs": [
    {
     "data": {
      "text/plain": [
       "cos(x)^2*e^x + cos(x)*e^x*sin(x) - e^x*sin(x)^2"
      ]
     },
     "execution_count": 44,
     "metadata": {},
     "output_type": "execute_result"
    }
   ],
   "source": [
    "y(x) = exp(x) * sin(x) * cos(x)\n",
    "diff(y(x), x)"
   ]
  },
  {
   "cell_type": "code",
   "execution_count": null,
   "id": "d4097300",
   "metadata": {},
   "outputs": [],
   "source": []
  },
  {
   "cell_type": "code",
   "execution_count": null,
   "id": "f5c305eb",
   "metadata": {},
   "outputs": [],
   "source": []
  },
  {
   "cell_type": "code",
   "execution_count": 32,
   "id": "483e5c71",
   "metadata": {},
   "outputs": [
    {
     "data": {
      "text/plain": [
       "-43/12"
      ]
     },
     "execution_count": 32,
     "metadata": {},
     "output_type": "execute_result"
    }
   ],
   "source": [
    "f(x) = 3*x^3 + 2*x^2 -5 \n",
    "integrate(f(x), x, 0, 1)"
   ]
  },
  {
   "cell_type": "code",
   "execution_count": 34,
   "id": "546d35d1",
   "metadata": {},
   "outputs": [
    {
     "data": {
      "text/plain": [
       "1"
      ]
     },
     "execution_count": 34,
     "metadata": {},
     "output_type": "execute_result"
    }
   ],
   "source": [
    "f(x) = 1/(x^2) \n",
    "integrate(f(x), x, 1, infinity)"
   ]
  },
  {
   "cell_type": "code",
   "execution_count": 35,
   "id": "9ba47850",
   "metadata": {},
   "outputs": [
    {
     "data": {
      "text/plain": [
       "sqrt(pi)"
      ]
     },
     "execution_count": 35,
     "metadata": {},
     "output_type": "execute_result"
    }
   ],
   "source": [
    "f(x) = e^(-x^2)\n",
    "integrate(f(x), x, -infinity, infinity)"
   ]
  },
  {
   "cell_type": "code",
   "execution_count": 37,
   "id": "6501a35a",
   "metadata": {},
   "outputs": [
    {
     "data": {
      "image/png": "[encoded data removed]",
      "text/plain": [
       "Graphics object consisting of 1 graphics primitive"
      ]
     },
     "execution_count": 37,
     "metadata": {},
     "output_type": "execute_result"
    }
   ],
   "source": [
    "f(x) = exp(-x)-1 \n",
    "plot(f(x), -2, 2)"
   ]
  },
  {
   "cell_type": "code",
   "execution_count": 40,
   "id": "51c81c28",
   "metadata": {},
   "outputs": [
    {
     "data": {
      "image/png": "[encoded data removed]",
      "text/plain": [
       "Graphics object consisting of 1 graphics primitive"
      ]
     },
     "execution_count": 40,
     "metadata": {},
     "output_type": "execute_result"
    }
   ],
   "source": [
    "f(x) = (200*exp(0.5 *x))/(2*(exp(0.5*x)-1)+100)\n",
    "plot(f(x), 0, 50)"
   ]
  },
  {
   "cell_type": "code",
   "execution_count": 41,
   "id": "e4133984",
   "metadata": {},
   "outputs": [
    {
     "data": {
      "image/png": "[encoded data removed]",
      "text/plain": [
       "Graphics object consisting of 1 graphics primitive"
      ]
     },
     "execution_count": 41,
     "metadata": {},
     "output_type": "execute_result"
    }
   ],
   "source": [
    "f(x) = (200*exp(-0.5 *x))/(2*(exp(-0.5*x)-1)+100)\n",
    "plot(f(x), 0, 50)"
   ]
  },
  {
   "cell_type": "code",
   "execution_count": 42,
   "id": "0e806995",
   "metadata": {},
   "outputs": [
    {
     "data": {
      "image/png": "[encoded data removed]",
      "text/plain": [
       "Graphics object consisting of 1 graphics primitive"
      ]
     },
     "execution_count": 42,
     "metadata": {},
     "output_type": "execute_result"
    }
   ],
   "source": [
    "f(x) = x * sin(1/x)\n",
    "plot(f(x), -3, 3)"
   ]
  },
  {
   "cell_type": "code",
   "execution_count": 49,
   "id": "b7bb1b37",
   "metadata": {},
   "outputs": [
    {
     "ename": "TypeError",
     "evalue": "object of type 'sage.symbolic.expression.Expression' has no len()",
     "output_type": "error",
     "traceback": [
      "\u001b[0;31m---------------------------------------------------------------------------\u001b[0m",
      "\u001b[0;31mTypeError\u001b[0m                                 Traceback (most recent call last)",
      "Cell \u001b[0;32mIn [49], line 4\u001b[0m\n\u001b[1;32m      2\u001b[0m __tmp__\u001b[38;5;241m=\u001b[39mvar(\u001b[38;5;124m\"\u001b[39m\u001b[38;5;124mt\u001b[39m\u001b[38;5;124m\"\u001b[39m); x \u001b[38;5;241m=\u001b[39m symbolic_expression((Integer(\u001b[38;5;241m1\u001b[39m) \u001b[38;5;241m-\u001b[39m cos(t)) \u001b[38;5;241m*\u001b[39m cos(t))\u001b[38;5;241m.\u001b[39mfunction(t)\n\u001b[1;32m      3\u001b[0m __tmp__\u001b[38;5;241m=\u001b[39mvar(\u001b[38;5;124m\"\u001b[39m\u001b[38;5;124mt\u001b[39m\u001b[38;5;124m\"\u001b[39m); y \u001b[38;5;241m=\u001b[39m symbolic_expression((Integer(\u001b[38;5;241m1\u001b[39m) \u001b[38;5;241m-\u001b[39m cos(t)) \u001b[38;5;241m*\u001b[39m sin(t))\u001b[38;5;241m.\u001b[39mfunction(t)\n\u001b[0;32m----> 4\u001b[0m \u001b[43mparametric_plot\u001b[49m\u001b[43m(\u001b[49m\u001b[43mx\u001b[49m\u001b[43m(\u001b[49m\u001b[43mt\u001b[49m\u001b[43m)\u001b[49m\u001b[43m,\u001b[49m\u001b[43my\u001b[49m\u001b[43m(\u001b[49m\u001b[43mt\u001b[49m\u001b[43m)\u001b[49m\u001b[43m,\u001b[49m\u001b[43m(\u001b[49m\u001b[43mt\u001b[49m\u001b[43m,\u001b[49m\u001b[43mInteger\u001b[49m\u001b[43m(\u001b[49m\u001b[38;5;241;43m0\u001b[39;49m\u001b[43m)\u001b[49m\u001b[43m,\u001b[49m\u001b[43m \u001b[49m\u001b[43mInteger\u001b[49m\u001b[43m(\u001b[49m\u001b[38;5;241;43m2\u001b[39;49m\u001b[43m)\u001b[49m\u001b[38;5;241;43m*\u001b[39;49m\u001b[43mpi\u001b[49m\u001b[43m)\u001b[49m\u001b[43m)\u001b[49m\n",
      "File \u001b[0;32m/private/var/tmp/sage-10.2-current/local/var/lib/sage/venv-python3.11.1/lib/python3.11/site-packages/sage/misc/decorators.py:497\u001b[0m, in \u001b[0;36moptions.__call__.<locals>.wrapper\u001b[0;34m(*args, **kwds)\u001b[0m\n\u001b[1;32m    495\u001b[0m     options[\u001b[38;5;124m'\u001b[39m\u001b[38;5;124m__original_opts\u001b[39m\u001b[38;5;124m'\u001b[39m] \u001b[38;5;241m=\u001b[39m kwds\n\u001b[1;32m    496\u001b[0m options\u001b[38;5;241m.\u001b[39mupdate(kwds)\n\u001b[0;32m--> 497\u001b[0m \u001b[38;5;28;01mreturn\u001b[39;00m \u001b[43mfunc\u001b[49m\u001b[43m(\u001b[49m\u001b[38;5;241;43m*\u001b[39;49m\u001b[43margs\u001b[49m\u001b[43m,\u001b[49m\u001b[43m \u001b[49m\u001b[38;5;241;43m*\u001b[39;49m\u001b[38;5;241;43m*\u001b[39;49m\u001b[43moptions\u001b[49m\u001b[43m)\u001b[49m\n",
      "File \u001b[0;32m/private/var/tmp/sage-10.2-current/local/var/lib/sage/venv-python3.11.1/lib/python3.11/site-packages/sage/plot/plot.py:2739\u001b[0m, in \u001b[0;36mparametric_plot\u001b[0;34m(funcs, *args, **kwargs)\u001b[0m\n\u001b[1;32m   2736\u001b[0m     \u001b[38;5;28;01melse\u001b[39;00m:\n\u001b[1;32m   2737\u001b[0m         \u001b[38;5;28;01mbreak\u001b[39;00m\n\u001b[0;32m-> 2739\u001b[0m num_funcs \u001b[38;5;241m=\u001b[39m \u001b[38;5;28;43mlen\u001b[39;49m\u001b[43m(\u001b[49m\u001b[43mfuncs\u001b[49m\u001b[43m)\u001b[49m\n\u001b[1;32m   2741\u001b[0m num_vars \u001b[38;5;241m=\u001b[39m \u001b[38;5;28mlen\u001b[39m(sage\u001b[38;5;241m.\u001b[39mplot\u001b[38;5;241m.\u001b[39mmisc\u001b[38;5;241m.\u001b[39munify_arguments(funcs)[\u001b[38;5;241m0\u001b[39m])\n\u001b[1;32m   2742\u001b[0m \u001b[38;5;28;01mif\u001b[39;00m num_vars \u001b[38;5;241m>\u001b[39m num_ranges:\n",
      "\u001b[0;31mTypeError\u001b[0m: object of type 'sage.symbolic.expression.Expression' has no len()"
     ]
    }
   ],
   "source": [
    "t = var('t')\n",
    "x(t) = (1 - cos(t)) * cos(t)\n",
    "y(t) = (1 - cos(t)) * sin(t)\n",
    "parametric_plot(x(t),y(t),(t,0, 2*pi))"
   ]
  },
  {
   "cell_type": "code",
   "execution_count": null,
   "id": "b4a3b857",
   "metadata": {},
   "outputs": [],
   "source": []
  },
  {
   "cell_type": "code",
   "execution_count": null,
   "id": "40dd4abd",
   "metadata": {},
   "outputs": [],
   "source": []
  },
  {
   "cell_type": "code",
   "execution_count": null,
   "id": "a0a5c400",
   "metadata": {},
   "outputs": [],
   "source": []
  }
 ],
 "metadata": {
  "kernelspec": {
   "display_name": "SageMath 10.2",
   "language": "sage",
   "name": "sagemath"
  },
  "language_info": {
   "codemirror_mode": {
    "name": "ipython",
    "version": 3
   },
   "file_extension": ".py",
   "mimetype": "text/x-python",
   "name": "python",
   "nbconvert_exporter": "python",
   "pygments_lexer": "ipython3",
   "version": "3.11.1"
  }
 },
 "nbformat": 4,
 "nbformat_minor": 5
}
