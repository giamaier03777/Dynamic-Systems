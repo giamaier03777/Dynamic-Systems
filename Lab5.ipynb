{
 "cells": [
  {
   "cell_type": "code",
   "execution_count": 3,
   "id": "117fa2ab",
   "metadata": {},
   "outputs": [
    {
     "ename": "TypeError",
     "evalue": "'sage.rings.integer.Integer' object is not callable",
     "output_type": "error",
     "traceback": [
      "\u001b[0;31m---------------------------------------------------------------------------\u001b[0m",
      "\u001b[0;31mTypeError\u001b[0m                                 Traceback (most recent call last)",
      "Cell \u001b[0;32mIn [3], line 3\u001b[0m\n\u001b[1;32m      1\u001b[0m x\u001b[38;5;241m=\u001b[39mvar(\u001b[38;5;124m'\u001b[39m\u001b[38;5;124mx\u001b[39m\u001b[38;5;124m'\u001b[39m)\n\u001b[1;32m      2\u001b[0m y\u001b[38;5;241m=\u001b[39mfunction(\u001b[38;5;124m'\u001b[39m\u001b[38;5;124my\u001b[39m\u001b[38;5;124m'\u001b[39m)(x)\n\u001b[0;32m----> 3\u001b[0m deq\u001b[38;5;241m=\u001b[39mx\u001b[38;5;241m*\u001b[39mdiff(y, x, Integer(\u001b[38;5;241m2\u001b[39m))\u001b[38;5;241m-\u001b[39m(x\u001b[38;5;241m+\u001b[39mInteger(\u001b[38;5;241m1\u001b[39m))\u001b[38;5;241m*\u001b[39mdiff(y, x)\u001b[38;5;241m-\u001b[39m\u001b[43mInteger\u001b[49m\u001b[43m(\u001b[49m\u001b[38;5;241;43m2\u001b[39;49m\u001b[43m)\u001b[49m\u001b[43m(\u001b[49m\u001b[43mx\u001b[49m\u001b[38;5;241;43m-\u001b[39;49m\u001b[43mInteger\u001b[49m\u001b[43m(\u001b[49m\u001b[38;5;241;43m1\u001b[39;49m\u001b[43m)\u001b[49m\u001b[43m)\u001b[49m\u001b[38;5;241m*\u001b[39my\u001b[38;5;241m==\u001b[39mInteger(\u001b[38;5;241m0\u001b[39m) \n\u001b[1;32m      4\u001b[0m y1 \u001b[38;5;241m=\u001b[39mfunction(\u001b[38;5;124m'\u001b[39m\u001b[38;5;124my1\u001b[39m\u001b[38;5;124m'\u001b[39m)(x)\n\u001b[1;32m      5\u001b[0m __tmp__\u001b[38;5;241m=\u001b[39mvar(\u001b[38;5;124m\"\u001b[39m\u001b[38;5;124mx\u001b[39m\u001b[38;5;124m\"\u001b[39m); y1 \u001b[38;5;241m=\u001b[39m symbolic_expression(exp(Integer(\u001b[38;5;241m2\u001b[39m)\u001b[38;5;241m*\u001b[39mx))\u001b[38;5;241m.\u001b[39mfunction(x)\n",
      "\u001b[0;31mTypeError\u001b[0m: 'sage.rings.integer.Integer' object is not callable"
     ]
    }
   ],
   "source": [
    "x=var('x')\n",
    "y=function('y')(x)\n",
    "deq=x*diff(y, x, 2)-(x+1)*diff(y, x)-2(x-1)*y==0 \n",
    "y1 =function('y1')(x)\n",
    "y1(x)=exp(2*x)\n",
    "ans=x*diff(y1,x,2)-(x+1)*diff(y1,x)-2*(x-1)*y1==0\n",
    "ans(x)"
   ]
  },
  {
   "cell_type": "code",
   "execution_count": null,
   "id": "a1e4ab55",
   "metadata": {},
   "outputs": [],
   "source": []
  },
  {
   "cell_type": "code",
   "execution_count": null,
   "id": "2821a86a",
   "metadata": {},
   "outputs": [],
   "source": []
  }
 ],
 "metadata": {
  "kernelspec": {
   "display_name": "SageMath 10.2",
   "language": "sage",
   "name": "sagemath"
  },
  "language_info": {
   "codemirror_mode": {
    "name": "ipython",
    "version": 3
   },
   "file_extension": ".py",
   "mimetype": "text/x-python",
   "name": "python",
   "nbconvert_exporter": "python",
   "pygments_lexer": "ipython3",
   "version": "3.11.1"
  }
 },
 "nbformat": 4,
 "nbformat_minor": 5
}
